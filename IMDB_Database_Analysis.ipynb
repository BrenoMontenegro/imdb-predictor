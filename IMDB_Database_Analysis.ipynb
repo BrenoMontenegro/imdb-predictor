{
  "nbformat": 4,
  "nbformat_minor": 0,
  "metadata": {
    "colab": {
      "provenance": []
    },
    "kernelspec": {
      "name": "python3",
      "display_name": "Python 3"
    },
    "language_info": {
      "name": "python"
    }
  },
  "cells": [
    {
      "cell_type": "markdown",
      "source": [
        "# Base de dados do IMDB: Uma análise crítica"
      ],
      "metadata": {
        "id": "sblq03NsyQ-y"
      }
    },
    {
      "cell_type": "markdown",
      "source": [
        "# 1. Carregando a base de dados"
      ],
      "metadata": {
        "id": "q4Ja-WiywoJO"
      }
    },
    {
      "cell_type": "code",
      "execution_count": 4,
      "metadata": {
        "colab": {
          "base_uri": "https://localhost:8080/",
          "height": 768
        },
        "id": "XFldQUl4wfMI",
        "outputId": "6f901ea1-92a3-4dd7-a726-23c7e5b4c6d4"
      },
      "outputs": [
        {
          "output_type": "display_data",
          "data": {
            "text/plain": [
              "<IPython.core.display.HTML object>"
            ],
            "text/html": [
              "\n",
              "     <input type=\"file\" id=\"files-8524d121-dad2-4ac7-9146-ec4a685cb026\" name=\"files[]\" multiple disabled\n",
              "        style=\"border:none\" />\n",
              "     <output id=\"result-8524d121-dad2-4ac7-9146-ec4a685cb026\">\n",
              "      Upload widget is only available when the cell has been executed in the\n",
              "      current browser session. Please rerun this cell to enable.\n",
              "      </output>\n",
              "      <script>// Copyright 2017 Google LLC\n",
              "//\n",
              "// Licensed under the Apache License, Version 2.0 (the \"License\");\n",
              "// you may not use this file except in compliance with the License.\n",
              "// You may obtain a copy of the License at\n",
              "//\n",
              "//      http://www.apache.org/licenses/LICENSE-2.0\n",
              "//\n",
              "// Unless required by applicable law or agreed to in writing, software\n",
              "// distributed under the License is distributed on an \"AS IS\" BASIS,\n",
              "// WITHOUT WARRANTIES OR CONDITIONS OF ANY KIND, either express or implied.\n",
              "// See the License for the specific language governing permissions and\n",
              "// limitations under the License.\n",
              "\n",
              "/**\n",
              " * @fileoverview Helpers for google.colab Python module.\n",
              " */\n",
              "(function(scope) {\n",
              "function span(text, styleAttributes = {}) {\n",
              "  const element = document.createElement('span');\n",
              "  element.textContent = text;\n",
              "  for (const key of Object.keys(styleAttributes)) {\n",
              "    element.style[key] = styleAttributes[key];\n",
              "  }\n",
              "  return element;\n",
              "}\n",
              "\n",
              "// Max number of bytes which will be uploaded at a time.\n",
              "const MAX_PAYLOAD_SIZE = 100 * 1024;\n",
              "\n",
              "function _uploadFiles(inputId, outputId) {\n",
              "  const steps = uploadFilesStep(inputId, outputId);\n",
              "  const outputElement = document.getElementById(outputId);\n",
              "  // Cache steps on the outputElement to make it available for the next call\n",
              "  // to uploadFilesContinue from Python.\n",
              "  outputElement.steps = steps;\n",
              "\n",
              "  return _uploadFilesContinue(outputId);\n",
              "}\n",
              "\n",
              "// This is roughly an async generator (not supported in the browser yet),\n",
              "// where there are multiple asynchronous steps and the Python side is going\n",
              "// to poll for completion of each step.\n",
              "// This uses a Promise to block the python side on completion of each step,\n",
              "// then passes the result of the previous step as the input to the next step.\n",
              "function _uploadFilesContinue(outputId) {\n",
              "  const outputElement = document.getElementById(outputId);\n",
              "  const steps = outputElement.steps;\n",
              "\n",
              "  const next = steps.next(outputElement.lastPromiseValue);\n",
              "  return Promise.resolve(next.value.promise).then((value) => {\n",
              "    // Cache the last promise value to make it available to the next\n",
              "    // step of the generator.\n",
              "    outputElement.lastPromiseValue = value;\n",
              "    return next.value.response;\n",
              "  });\n",
              "}\n",
              "\n",
              "/**\n",
              " * Generator function which is called between each async step of the upload\n",
              " * process.\n",
              " * @param {string} inputId Element ID of the input file picker element.\n",
              " * @param {string} outputId Element ID of the output display.\n",
              " * @return {!Iterable<!Object>} Iterable of next steps.\n",
              " */\n",
              "function* uploadFilesStep(inputId, outputId) {\n",
              "  const inputElement = document.getElementById(inputId);\n",
              "  inputElement.disabled = false;\n",
              "\n",
              "  const outputElement = document.getElementById(outputId);\n",
              "  outputElement.innerHTML = '';\n",
              "\n",
              "  const pickedPromise = new Promise((resolve) => {\n",
              "    inputElement.addEventListener('change', (e) => {\n",
              "      resolve(e.target.files);\n",
              "    });\n",
              "  });\n",
              "\n",
              "  const cancel = document.createElement('button');\n",
              "  inputElement.parentElement.appendChild(cancel);\n",
              "  cancel.textContent = 'Cancel upload';\n",
              "  const cancelPromise = new Promise((resolve) => {\n",
              "    cancel.onclick = () => {\n",
              "      resolve(null);\n",
              "    };\n",
              "  });\n",
              "\n",
              "  // Wait for the user to pick the files.\n",
              "  const files = yield {\n",
              "    promise: Promise.race([pickedPromise, cancelPromise]),\n",
              "    response: {\n",
              "      action: 'starting',\n",
              "    }\n",
              "  };\n",
              "\n",
              "  cancel.remove();\n",
              "\n",
              "  // Disable the input element since further picks are not allowed.\n",
              "  inputElement.disabled = true;\n",
              "\n",
              "  if (!files) {\n",
              "    return {\n",
              "      response: {\n",
              "        action: 'complete',\n",
              "      }\n",
              "    };\n",
              "  }\n",
              "\n",
              "  for (const file of files) {\n",
              "    const li = document.createElement('li');\n",
              "    li.append(span(file.name, {fontWeight: 'bold'}));\n",
              "    li.append(span(\n",
              "        `(${file.type || 'n/a'}) - ${file.size} bytes, ` +\n",
              "        `last modified: ${\n",
              "            file.lastModifiedDate ? file.lastModifiedDate.toLocaleDateString() :\n",
              "                                    'n/a'} - `));\n",
              "    const percent = span('0% done');\n",
              "    li.appendChild(percent);\n",
              "\n",
              "    outputElement.appendChild(li);\n",
              "\n",
              "    const fileDataPromise = new Promise((resolve) => {\n",
              "      const reader = new FileReader();\n",
              "      reader.onload = (e) => {\n",
              "        resolve(e.target.result);\n",
              "      };\n",
              "      reader.readAsArrayBuffer(file);\n",
              "    });\n",
              "    // Wait for the data to be ready.\n",
              "    let fileData = yield {\n",
              "      promise: fileDataPromise,\n",
              "      response: {\n",
              "        action: 'continue',\n",
              "      }\n",
              "    };\n",
              "\n",
              "    // Use a chunked sending to avoid message size limits. See b/62115660.\n",
              "    let position = 0;\n",
              "    do {\n",
              "      const length = Math.min(fileData.byteLength - position, MAX_PAYLOAD_SIZE);\n",
              "      const chunk = new Uint8Array(fileData, position, length);\n",
              "      position += length;\n",
              "\n",
              "      const base64 = btoa(String.fromCharCode.apply(null, chunk));\n",
              "      yield {\n",
              "        response: {\n",
              "          action: 'append',\n",
              "          file: file.name,\n",
              "          data: base64,\n",
              "        },\n",
              "      };\n",
              "\n",
              "      let percentDone = fileData.byteLength === 0 ?\n",
              "          100 :\n",
              "          Math.round((position / fileData.byteLength) * 100);\n",
              "      percent.textContent = `${percentDone}% done`;\n",
              "\n",
              "    } while (position < fileData.byteLength);\n",
              "  }\n",
              "\n",
              "  // All done.\n",
              "  yield {\n",
              "    response: {\n",
              "      action: 'complete',\n",
              "    }\n",
              "  };\n",
              "}\n",
              "\n",
              "scope.google = scope.google || {};\n",
              "scope.google.colab = scope.google.colab || {};\n",
              "scope.google.colab._files = {\n",
              "  _uploadFiles,\n",
              "  _uploadFilesContinue,\n",
              "};\n",
              "})(self);\n",
              "</script> "
            ]
          },
          "metadata": {}
        },
        {
          "output_type": "stream",
          "name": "stdout",
          "text": [
            "Saving imdb.csv to imdb.csv\n"
          ]
        },
        {
          "output_type": "execute_result",
          "data": {
            "text/plain": [
              "   Unnamed: 0  ...        Gross\n",
              "0           1  ...  134,966,411\n",
              "1           2  ...  534,858,444\n",
              "2           3  ...   57,300,000\n",
              "3           4  ...    4,360,000\n",
              "4           5  ...  377,845,905\n",
              "\n",
              "[5 rows x 16 columns]"
            ],
            "text/html": [
              "\n",
              "  <div id=\"df-4e695fef-ff23-49cf-8a15-8f10b33b29f0\" class=\"colab-df-container\">\n",
              "    <div>\n",
              "<style scoped>\n",
              "    .dataframe tbody tr th:only-of-type {\n",
              "        vertical-align: middle;\n",
              "    }\n",
              "\n",
              "    .dataframe tbody tr th {\n",
              "        vertical-align: top;\n",
              "    }\n",
              "\n",
              "    .dataframe thead th {\n",
              "        text-align: right;\n",
              "    }\n",
              "</style>\n",
              "<table border=\"1\" class=\"dataframe\">\n",
              "  <thead>\n",
              "    <tr style=\"text-align: right;\">\n",
              "      <th></th>\n",
              "      <th>Unnamed: 0</th>\n",
              "      <th>Series_Title</th>\n",
              "      <th>Released_Year</th>\n",
              "      <th>Certificate</th>\n",
              "      <th>Runtime</th>\n",
              "      <th>Genre</th>\n",
              "      <th>IMDB_Rating</th>\n",
              "      <th>Overview</th>\n",
              "      <th>Meta_score</th>\n",
              "      <th>Director</th>\n",
              "      <th>Star1</th>\n",
              "      <th>Star2</th>\n",
              "      <th>Star3</th>\n",
              "      <th>Star4</th>\n",
              "      <th>No_of_Votes</th>\n",
              "      <th>Gross</th>\n",
              "    </tr>\n",
              "  </thead>\n",
              "  <tbody>\n",
              "    <tr>\n",
              "      <th>0</th>\n",
              "      <td>1</td>\n",
              "      <td>The Godfather</td>\n",
              "      <td>1972</td>\n",
              "      <td>A</td>\n",
              "      <td>175 min</td>\n",
              "      <td>Crime, Drama</td>\n",
              "      <td>9.2</td>\n",
              "      <td>An organized crime dynasty's aging patriarch t...</td>\n",
              "      <td>100.0</td>\n",
              "      <td>Francis Ford Coppola</td>\n",
              "      <td>Marlon Brando</td>\n",
              "      <td>Al Pacino</td>\n",
              "      <td>James Caan</td>\n",
              "      <td>Diane Keaton</td>\n",
              "      <td>1620367</td>\n",
              "      <td>134,966,411</td>\n",
              "    </tr>\n",
              "    <tr>\n",
              "      <th>1</th>\n",
              "      <td>2</td>\n",
              "      <td>The Dark Knight</td>\n",
              "      <td>2008</td>\n",
              "      <td>UA</td>\n",
              "      <td>152 min</td>\n",
              "      <td>Action, Crime, Drama</td>\n",
              "      <td>9.0</td>\n",
              "      <td>When the menace known as the Joker wreaks havo...</td>\n",
              "      <td>84.0</td>\n",
              "      <td>Christopher Nolan</td>\n",
              "      <td>Christian Bale</td>\n",
              "      <td>Heath Ledger</td>\n",
              "      <td>Aaron Eckhart</td>\n",
              "      <td>Michael Caine</td>\n",
              "      <td>2303232</td>\n",
              "      <td>534,858,444</td>\n",
              "    </tr>\n",
              "    <tr>\n",
              "      <th>2</th>\n",
              "      <td>3</td>\n",
              "      <td>The Godfather: Part II</td>\n",
              "      <td>1974</td>\n",
              "      <td>A</td>\n",
              "      <td>202 min</td>\n",
              "      <td>Crime, Drama</td>\n",
              "      <td>9.0</td>\n",
              "      <td>The early life and career of Vito Corleone in ...</td>\n",
              "      <td>90.0</td>\n",
              "      <td>Francis Ford Coppola</td>\n",
              "      <td>Al Pacino</td>\n",
              "      <td>Robert De Niro</td>\n",
              "      <td>Robert Duvall</td>\n",
              "      <td>Diane Keaton</td>\n",
              "      <td>1129952</td>\n",
              "      <td>57,300,000</td>\n",
              "    </tr>\n",
              "    <tr>\n",
              "      <th>3</th>\n",
              "      <td>4</td>\n",
              "      <td>12 Angry Men</td>\n",
              "      <td>1957</td>\n",
              "      <td>U</td>\n",
              "      <td>96 min</td>\n",
              "      <td>Crime, Drama</td>\n",
              "      <td>9.0</td>\n",
              "      <td>A jury holdout attempts to prevent a miscarria...</td>\n",
              "      <td>96.0</td>\n",
              "      <td>Sidney Lumet</td>\n",
              "      <td>Henry Fonda</td>\n",
              "      <td>Lee J. Cobb</td>\n",
              "      <td>Martin Balsam</td>\n",
              "      <td>John Fiedler</td>\n",
              "      <td>689845</td>\n",
              "      <td>4,360,000</td>\n",
              "    </tr>\n",
              "    <tr>\n",
              "      <th>4</th>\n",
              "      <td>5</td>\n",
              "      <td>The Lord of the Rings: The Return of the King</td>\n",
              "      <td>2003</td>\n",
              "      <td>U</td>\n",
              "      <td>201 min</td>\n",
              "      <td>Action, Adventure, Drama</td>\n",
              "      <td>8.9</td>\n",
              "      <td>Gandalf and Aragorn lead the World of Men agai...</td>\n",
              "      <td>94.0</td>\n",
              "      <td>Peter Jackson</td>\n",
              "      <td>Elijah Wood</td>\n",
              "      <td>Viggo Mortensen</td>\n",
              "      <td>Ian McKellen</td>\n",
              "      <td>Orlando Bloom</td>\n",
              "      <td>1642758</td>\n",
              "      <td>377,845,905</td>\n",
              "    </tr>\n",
              "  </tbody>\n",
              "</table>\n",
              "</div>\n",
              "    <div class=\"colab-df-buttons\">\n",
              "\n",
              "  <div class=\"colab-df-container\">\n",
              "    <button class=\"colab-df-convert\" onclick=\"convertToInteractive('df-4e695fef-ff23-49cf-8a15-8f10b33b29f0')\"\n",
              "            title=\"Convert this dataframe to an interactive table.\"\n",
              "            style=\"display:none;\">\n",
              "\n",
              "  <svg xmlns=\"http://www.w3.org/2000/svg\" height=\"24px\" viewBox=\"0 -960 960 960\">\n",
              "    <path d=\"M120-120v-720h720v720H120Zm60-500h600v-160H180v160Zm220 220h160v-160H400v160Zm0 220h160v-160H400v160ZM180-400h160v-160H180v160Zm440 0h160v-160H620v160ZM180-180h160v-160H180v160Zm440 0h160v-160H620v160Z\"/>\n",
              "  </svg>\n",
              "    </button>\n",
              "\n",
              "  <style>\n",
              "    .colab-df-container {\n",
              "      display:flex;\n",
              "      gap: 12px;\n",
              "    }\n",
              "\n",
              "    .colab-df-convert {\n",
              "      background-color: #E8F0FE;\n",
              "      border: none;\n",
              "      border-radius: 50%;\n",
              "      cursor: pointer;\n",
              "      display: none;\n",
              "      fill: #1967D2;\n",
              "      height: 32px;\n",
              "      padding: 0 0 0 0;\n",
              "      width: 32px;\n",
              "    }\n",
              "\n",
              "    .colab-df-convert:hover {\n",
              "      background-color: #E2EBFA;\n",
              "      box-shadow: 0px 1px 2px rgba(60, 64, 67, 0.3), 0px 1px 3px 1px rgba(60, 64, 67, 0.15);\n",
              "      fill: #174EA6;\n",
              "    }\n",
              "\n",
              "    .colab-df-buttons div {\n",
              "      margin-bottom: 4px;\n",
              "    }\n",
              "\n",
              "    [theme=dark] .colab-df-convert {\n",
              "      background-color: #3B4455;\n",
              "      fill: #D2E3FC;\n",
              "    }\n",
              "\n",
              "    [theme=dark] .colab-df-convert:hover {\n",
              "      background-color: #434B5C;\n",
              "      box-shadow: 0px 1px 3px 1px rgba(0, 0, 0, 0.15);\n",
              "      filter: drop-shadow(0px 1px 2px rgba(0, 0, 0, 0.3));\n",
              "      fill: #FFFFFF;\n",
              "    }\n",
              "  </style>\n",
              "\n",
              "    <script>\n",
              "      const buttonEl =\n",
              "        document.querySelector('#df-4e695fef-ff23-49cf-8a15-8f10b33b29f0 button.colab-df-convert');\n",
              "      buttonEl.style.display =\n",
              "        google.colab.kernel.accessAllowed ? 'block' : 'none';\n",
              "\n",
              "      async function convertToInteractive(key) {\n",
              "        const element = document.querySelector('#df-4e695fef-ff23-49cf-8a15-8f10b33b29f0');\n",
              "        const dataTable =\n",
              "          await google.colab.kernel.invokeFunction('convertToInteractive',\n",
              "                                                    [key], {});\n",
              "        if (!dataTable) return;\n",
              "\n",
              "        const docLinkHtml = 'Like what you see? Visit the ' +\n",
              "          '<a target=\"_blank\" href=https://colab.research.google.com/notebooks/data_table.ipynb>data table notebook</a>'\n",
              "          + ' to learn more about interactive tables.';\n",
              "        element.innerHTML = '';\n",
              "        dataTable['output_type'] = 'display_data';\n",
              "        await google.colab.output.renderOutput(dataTable, element);\n",
              "        const docLink = document.createElement('div');\n",
              "        docLink.innerHTML = docLinkHtml;\n",
              "        element.appendChild(docLink);\n",
              "      }\n",
              "    </script>\n",
              "  </div>\n",
              "\n",
              "\n",
              "    <div id=\"df-a26689e5-b67a-4985-87fd-965ec6099ca9\">\n",
              "      <button class=\"colab-df-quickchart\" onclick=\"quickchart('df-a26689e5-b67a-4985-87fd-965ec6099ca9')\"\n",
              "                title=\"Suggest charts\"\n",
              "                style=\"display:none;\">\n",
              "\n",
              "<svg xmlns=\"http://www.w3.org/2000/svg\" height=\"24px\"viewBox=\"0 0 24 24\"\n",
              "     width=\"24px\">\n",
              "    <g>\n",
              "        <path d=\"M19 3H5c-1.1 0-2 .9-2 2v14c0 1.1.9 2 2 2h14c1.1 0 2-.9 2-2V5c0-1.1-.9-2-2-2zM9 17H7v-7h2v7zm4 0h-2V7h2v10zm4 0h-2v-4h2v4z\"/>\n",
              "    </g>\n",
              "</svg>\n",
              "      </button>\n",
              "\n",
              "<style>\n",
              "  .colab-df-quickchart {\n",
              "      --bg-color: #E8F0FE;\n",
              "      --fill-color: #1967D2;\n",
              "      --hover-bg-color: #E2EBFA;\n",
              "      --hover-fill-color: #174EA6;\n",
              "      --disabled-fill-color: #AAA;\n",
              "      --disabled-bg-color: #DDD;\n",
              "  }\n",
              "\n",
              "  [theme=dark] .colab-df-quickchart {\n",
              "      --bg-color: #3B4455;\n",
              "      --fill-color: #D2E3FC;\n",
              "      --hover-bg-color: #434B5C;\n",
              "      --hover-fill-color: #FFFFFF;\n",
              "      --disabled-bg-color: #3B4455;\n",
              "      --disabled-fill-color: #666;\n",
              "  }\n",
              "\n",
              "  .colab-df-quickchart {\n",
              "    background-color: var(--bg-color);\n",
              "    border: none;\n",
              "    border-radius: 50%;\n",
              "    cursor: pointer;\n",
              "    display: none;\n",
              "    fill: var(--fill-color);\n",
              "    height: 32px;\n",
              "    padding: 0;\n",
              "    width: 32px;\n",
              "  }\n",
              "\n",
              "  .colab-df-quickchart:hover {\n",
              "    background-color: var(--hover-bg-color);\n",
              "    box-shadow: 0 1px 2px rgba(60, 64, 67, 0.3), 0 1px 3px 1px rgba(60, 64, 67, 0.15);\n",
              "    fill: var(--button-hover-fill-color);\n",
              "  }\n",
              "\n",
              "  .colab-df-quickchart-complete:disabled,\n",
              "  .colab-df-quickchart-complete:disabled:hover {\n",
              "    background-color: var(--disabled-bg-color);\n",
              "    fill: var(--disabled-fill-color);\n",
              "    box-shadow: none;\n",
              "  }\n",
              "\n",
              "  .colab-df-spinner {\n",
              "    border: 2px solid var(--fill-color);\n",
              "    border-color: transparent;\n",
              "    border-bottom-color: var(--fill-color);\n",
              "    animation:\n",
              "      spin 1s steps(1) infinite;\n",
              "  }\n",
              "\n",
              "  @keyframes spin {\n",
              "    0% {\n",
              "      border-color: transparent;\n",
              "      border-bottom-color: var(--fill-color);\n",
              "      border-left-color: var(--fill-color);\n",
              "    }\n",
              "    20% {\n",
              "      border-color: transparent;\n",
              "      border-left-color: var(--fill-color);\n",
              "      border-top-color: var(--fill-color);\n",
              "    }\n",
              "    30% {\n",
              "      border-color: transparent;\n",
              "      border-left-color: var(--fill-color);\n",
              "      border-top-color: var(--fill-color);\n",
              "      border-right-color: var(--fill-color);\n",
              "    }\n",
              "    40% {\n",
              "      border-color: transparent;\n",
              "      border-right-color: var(--fill-color);\n",
              "      border-top-color: var(--fill-color);\n",
              "    }\n",
              "    60% {\n",
              "      border-color: transparent;\n",
              "      border-right-color: var(--fill-color);\n",
              "    }\n",
              "    80% {\n",
              "      border-color: transparent;\n",
              "      border-right-color: var(--fill-color);\n",
              "      border-bottom-color: var(--fill-color);\n",
              "    }\n",
              "    90% {\n",
              "      border-color: transparent;\n",
              "      border-bottom-color: var(--fill-color);\n",
              "    }\n",
              "  }\n",
              "</style>\n",
              "\n",
              "      <script>\n",
              "        async function quickchart(key) {\n",
              "          const quickchartButtonEl =\n",
              "            document.querySelector('#' + key + ' button');\n",
              "          quickchartButtonEl.disabled = true;  // To prevent multiple clicks.\n",
              "          quickchartButtonEl.classList.add('colab-df-spinner');\n",
              "          try {\n",
              "            const charts = await google.colab.kernel.invokeFunction(\n",
              "                'suggestCharts', [key], {});\n",
              "          } catch (error) {\n",
              "            console.error('Error during call to suggestCharts:', error);\n",
              "          }\n",
              "          quickchartButtonEl.classList.remove('colab-df-spinner');\n",
              "          quickchartButtonEl.classList.add('colab-df-quickchart-complete');\n",
              "        }\n",
              "        (() => {\n",
              "          let quickchartButtonEl =\n",
              "            document.querySelector('#df-a26689e5-b67a-4985-87fd-965ec6099ca9 button');\n",
              "          quickchartButtonEl.style.display =\n",
              "            google.colab.kernel.accessAllowed ? 'block' : 'none';\n",
              "        })();\n",
              "      </script>\n",
              "    </div>\n",
              "\n",
              "    </div>\n",
              "  </div>\n"
            ],
            "application/vnd.google.colaboratory.intrinsic+json": {
              "type": "dataframe",
              "variable_name": "df",
              "summary": "{\n  \"name\": \"df\",\n  \"rows\": 999,\n  \"fields\": [\n    {\n      \"column\": \"Unnamed: 0\",\n      \"properties\": {\n        \"dtype\": \"number\",\n        \"std\": 288,\n        \"min\": 1,\n        \"max\": 999,\n        \"num_unique_values\": 999,\n        \"samples\": [\n          454,\n          794,\n          210\n        ],\n        \"semantic_type\": \"\",\n        \"description\": \"\"\n      }\n    },\n    {\n      \"column\": \"Series_Title\",\n      \"properties\": {\n        \"dtype\": \"string\",\n        \"num_unique_values\": 998,\n        \"samples\": [\n          \"Arsenic and Old Lace\",\n          \"Hedwig and the Angry Inch\",\n          \"\\u00d4kami kodomo no Ame to Yuki\"\n        ],\n        \"semantic_type\": \"\",\n        \"description\": \"\"\n      }\n    },\n    {\n      \"column\": \"Released_Year\",\n      \"properties\": {\n        \"dtype\": \"category\",\n        \"num_unique_values\": 100,\n        \"samples\": [\n          \"1934\",\n          \"1992\",\n          \"1989\"\n        ],\n        \"semantic_type\": \"\",\n        \"description\": \"\"\n      }\n    },\n    {\n      \"column\": \"Certificate\",\n      \"properties\": {\n        \"dtype\": \"category\",\n        \"num_unique_values\": 16,\n        \"samples\": [\n          \"A\",\n          \"UA\",\n          \"PG\"\n        ],\n        \"semantic_type\": \"\",\n        \"description\": \"\"\n      }\n    },\n    {\n      \"column\": \"Runtime\",\n      \"properties\": {\n        \"dtype\": \"category\",\n        \"num_unique_values\": 140,\n        \"samples\": [\n          \"205 min\",\n          \"129 min\",\n          \"112 min\"\n        ],\n        \"semantic_type\": \"\",\n        \"description\": \"\"\n      }\n    },\n    {\n      \"column\": \"Genre\",\n      \"properties\": {\n        \"dtype\": \"category\",\n        \"num_unique_values\": 202,\n        \"samples\": [\n          \"Comedy, Drama, Fantasy\",\n          \"Crime, Drama, Fantasy\",\n          \"Drama, Romance, War\"\n        ],\n        \"semantic_type\": \"\",\n        \"description\": \"\"\n      }\n    },\n    {\n      \"column\": \"IMDB_Rating\",\n      \"properties\": {\n        \"dtype\": \"number\",\n        \"std\": 0.2722895085128789,\n        \"min\": 7.6,\n        \"max\": 9.2,\n        \"num_unique_values\": 16,\n        \"samples\": [\n          9.2,\n          9.0,\n          8.6\n        ],\n        \"semantic_type\": \"\",\n        \"description\": \"\"\n      }\n    },\n    {\n      \"column\": \"Overview\",\n      \"properties\": {\n        \"dtype\": \"string\",\n        \"num_unique_values\": 999,\n        \"samples\": [\n          \"Three World War II veterans return home to small-town America to discover that they and their families have been irreparably changed.\",\n          \"A gender-queer punk-rock singer from East Berlin tours the U.S. with her band as she tells her life story and follows the former lover/band-mate who stole her songs.\",\n          \"With his wife's disappearance having become the focus of an intense media circus, a man sees the spotlight turned on him when it's suspected that he may not be innocent.\"\n        ],\n        \"semantic_type\": \"\",\n        \"description\": \"\"\n      }\n    },\n    {\n      \"column\": \"Meta_score\",\n      \"properties\": {\n        \"dtype\": \"number\",\n        \"std\": 12.383257326288954,\n        \"min\": 28.0,\n        \"max\": 100.0,\n        \"num_unique_values\": 63,\n        \"samples\": [\n          30.0,\n          52.0,\n          100.0\n        ],\n        \"semantic_type\": \"\",\n        \"description\": \"\"\n      }\n    },\n    {\n      \"column\": \"Director\",\n      \"properties\": {\n        \"dtype\": \"string\",\n        \"num_unique_values\": 548,\n        \"samples\": [\n          \"Satoshi Kon\",\n          \"David Lean\",\n          \"Yilmaz Erdogan\"\n        ],\n        \"semantic_type\": \"\",\n        \"description\": \"\"\n      }\n    },\n    {\n      \"column\": \"Star1\",\n      \"properties\": {\n        \"dtype\": \"string\",\n        \"num_unique_values\": 659,\n        \"samples\": [\n          \"Peter Dinklage\",\n          \"Jay Baruchel\",\n          \"Steve McQueen\"\n        ],\n        \"semantic_type\": \"\",\n        \"description\": \"\"\n      }\n    },\n    {\n      \"column\": \"Star2\",\n      \"properties\": {\n        \"dtype\": \"string\",\n        \"num_unique_values\": 840,\n        \"samples\": [\n          \"Jacques Villeret\",\n          \"Meg Ryan\",\n          \"J.K. Simmons\"\n        ],\n        \"semantic_type\": \"\",\n        \"description\": \"\"\n      }\n    },\n    {\n      \"column\": \"Star3\",\n      \"properties\": {\n        \"dtype\": \"string\",\n        \"num_unique_values\": 890,\n        \"samples\": [\n          \"Yacef Saadi\",\n          \"John Wray\",\n          \"Chazz Palminteri\"\n        ],\n        \"semantic_type\": \"\",\n        \"description\": \"\"\n      }\n    },\n    {\n      \"column\": \"Star4\",\n      \"properties\": {\n        \"dtype\": \"string\",\n        \"num_unique_values\": 938,\n        \"samples\": [\n          \"Veronica Cartwright\",\n          \"Domhnall Gleeson\",\n          \"Jennifer Ulrich\"\n        ],\n        \"semantic_type\": \"\",\n        \"description\": \"\"\n      }\n    },\n    {\n      \"column\": \"No_of_Votes\",\n      \"properties\": {\n        \"dtype\": \"number\",\n        \"std\": 320912,\n        \"min\": 25088,\n        \"max\": 2303232,\n        \"num_unique_values\": 998,\n        \"samples\": [\n          57259,\n          31957,\n          859695\n        ],\n        \"semantic_type\": \"\",\n        \"description\": \"\"\n      }\n    },\n    {\n      \"column\": \"Gross\",\n      \"properties\": {\n        \"dtype\": \"string\",\n        \"num_unique_values\": 822,\n        \"samples\": [\n          \"136,025,503\",\n          \"356,461,711\",\n          \"275,902\"\n        ],\n        \"semantic_type\": \"\",\n        \"description\": \"\"\n      }\n    }\n  ]\n}"
            }
          },
          "metadata": {},
          "execution_count": 4
        }
      ],
      "source": [
        "#importando para meu código o módulo que me permite manipular arquivos no Colab\n",
        "from google.colab import files\n",
        "#importando biblioteca pandas para facilitar a leitura das tabelas\n",
        "import pandas as pd\n",
        "\n",
        "#chamada para fazer upload da base de dados\n",
        "upload_dos_dados = files.upload()\n",
        "\n",
        "#transformando em um dataframe, carrega a base de dados na biblioteca pandas\n",
        "df = pd.read_csv(\"imdb.csv\")\n",
        "\n",
        "#visualizando as primeiras linhas para conferir se a base de dados carregou\n",
        "df.head()"
      ]
    },
    {
      "cell_type": "markdown",
      "source": [
        "# 2. Realizando limpeza de dados desnecessários"
      ],
      "metadata": {
        "id": "5httxSdLywTr"
      }
    },
    {
      "cell_type": "markdown",
      "source": [
        "- Ao receber uma base de dados, é fundamental organizar e limpar dados que estejam inconsistentes e que podem futuramente prejudicar o desempenho do modelo. Portanto, esta seção é voltada para a realização de análise exploratória e limpeza de dados."
      ],
      "metadata": {
        "id": "--Srk0dg0VaH"
      }
    },
    {
      "cell_type": "markdown",
      "source": [
        "## 2.1 Visualização geral da base de dados"
      ],
      "metadata": {
        "id": "Wkzmwfby0QIs"
      }
    },
    {
      "cell_type": "code",
      "source": [
        "#exibição na tela para visulizar a quantidade de linhas e colunas (dimensão)\n",
        "print(df.shape)\n",
        "\n",
        "#visualizar informações gerais da base para facilitar a identificação\n",
        "print(df.info())"
      ],
      "metadata": {
        "colab": {
          "base_uri": "https://localhost:8080/"
        },
        "id": "aY7dwGlmy18l",
        "outputId": "c8268ca8-f787-47b8-f72d-801c263ca12c"
      },
      "execution_count": 5,
      "outputs": [
        {
          "output_type": "stream",
          "name": "stdout",
          "text": [
            "(999, 16)\n",
            "<class 'pandas.core.frame.DataFrame'>\n",
            "RangeIndex: 999 entries, 0 to 998\n",
            "Data columns (total 16 columns):\n",
            " #   Column         Non-Null Count  Dtype  \n",
            "---  ------         --------------  -----  \n",
            " 0   Unnamed: 0     999 non-null    int64  \n",
            " 1   Series_Title   999 non-null    object \n",
            " 2   Released_Year  999 non-null    object \n",
            " 3   Certificate    898 non-null    object \n",
            " 4   Runtime        999 non-null    object \n",
            " 5   Genre          999 non-null    object \n",
            " 6   IMDB_Rating    999 non-null    float64\n",
            " 7   Overview       999 non-null    object \n",
            " 8   Meta_score     842 non-null    float64\n",
            " 9   Director       999 non-null    object \n",
            " 10  Star1          999 non-null    object \n",
            " 11  Star2          999 non-null    object \n",
            " 12  Star3          999 non-null    object \n",
            " 13  Star4          999 non-null    object \n",
            " 14  No_of_Votes    999 non-null    int64  \n",
            " 15  Gross          830 non-null    object \n",
            "dtypes: float64(2), int64(2), object(12)\n",
            "memory usage: 125.0+ KB\n",
            "None\n"
          ]
        }
      ]
    },
    {
      "cell_type": "markdown",
      "source": [
        "## 2.2 Verificação de valores nulos"
      ],
      "metadata": {
        "id": "vsniNnvG0FXQ"
      }
    },
    {
      "cell_type": "code",
      "source": [
        "#Vai somar e retornar o total de valores nulos em cada coluna\n",
        "print(df.isnull().sum())\n",
        "\n",
        "#mudando o estado de dados nulos para \"Não informado\"\n",
        "df[\"Certificate\"] = df[\"Certificate\"].fillna(\"Não informado\")\n",
        "\n",
        "#Garante que a coluna 'Gross' existe (essa linha não altera nada, só referencia)\n",
        "df[\"Gross\"] = df[\"Gross\"]\n",
        "\n",
        "#Substitui valores nulos na coluna 'Gross' por \"Sem informação\"\n",
        "#Isso permite tratar dados faltantes de forma consistente sem gerar erros\n",
        "df[\"Gross\"].fillna(\"Sem informação\")"
      ],
      "metadata": {
        "colab": {
          "base_uri": "https://localhost:8080/",
          "height": 754
        },
        "id": "zG_bgv5F0BQP",
        "outputId": "be00b961-f1b9-47a9-fe75-01f9560076ce"
      },
      "execution_count": 6,
      "outputs": [
        {
          "output_type": "stream",
          "name": "stdout",
          "text": [
            "Unnamed: 0         0\n",
            "Series_Title       0\n",
            "Released_Year      0\n",
            "Certificate      101\n",
            "Runtime            0\n",
            "Genre              0\n",
            "IMDB_Rating        0\n",
            "Overview           0\n",
            "Meta_score       157\n",
            "Director           0\n",
            "Star1              0\n",
            "Star2              0\n",
            "Star3              0\n",
            "Star4              0\n",
            "No_of_Votes        0\n",
            "Gross            169\n",
            "dtype: int64\n"
          ]
        },
        {
          "output_type": "execute_result",
          "data": {
            "text/plain": [
              "0         134,966,411\n",
              "1         534,858,444\n",
              "2          57,300,000\n",
              "3           4,360,000\n",
              "4         377,845,905\n",
              "            ...      \n",
              "994    Sem informação\n",
              "995    Sem informação\n",
              "996        30,500,000\n",
              "997    Sem informação\n",
              "998    Sem informação\n",
              "Name: Gross, Length: 999, dtype: object"
            ],
            "text/html": [
              "<div>\n",
              "<style scoped>\n",
              "    .dataframe tbody tr th:only-of-type {\n",
              "        vertical-align: middle;\n",
              "    }\n",
              "\n",
              "    .dataframe tbody tr th {\n",
              "        vertical-align: top;\n",
              "    }\n",
              "\n",
              "    .dataframe thead th {\n",
              "        text-align: right;\n",
              "    }\n",
              "</style>\n",
              "<table border=\"1\" class=\"dataframe\">\n",
              "  <thead>\n",
              "    <tr style=\"text-align: right;\">\n",
              "      <th></th>\n",
              "      <th>Gross</th>\n",
              "    </tr>\n",
              "  </thead>\n",
              "  <tbody>\n",
              "    <tr>\n",
              "      <th>0</th>\n",
              "      <td>134,966,411</td>\n",
              "    </tr>\n",
              "    <tr>\n",
              "      <th>1</th>\n",
              "      <td>534,858,444</td>\n",
              "    </tr>\n",
              "    <tr>\n",
              "      <th>2</th>\n",
              "      <td>57,300,000</td>\n",
              "    </tr>\n",
              "    <tr>\n",
              "      <th>3</th>\n",
              "      <td>4,360,000</td>\n",
              "    </tr>\n",
              "    <tr>\n",
              "      <th>4</th>\n",
              "      <td>377,845,905</td>\n",
              "    </tr>\n",
              "    <tr>\n",
              "      <th>...</th>\n",
              "      <td>...</td>\n",
              "    </tr>\n",
              "    <tr>\n",
              "      <th>994</th>\n",
              "      <td>Sem informação</td>\n",
              "    </tr>\n",
              "    <tr>\n",
              "      <th>995</th>\n",
              "      <td>Sem informação</td>\n",
              "    </tr>\n",
              "    <tr>\n",
              "      <th>996</th>\n",
              "      <td>30,500,000</td>\n",
              "    </tr>\n",
              "    <tr>\n",
              "      <th>997</th>\n",
              "      <td>Sem informação</td>\n",
              "    </tr>\n",
              "    <tr>\n",
              "      <th>998</th>\n",
              "      <td>Sem informação</td>\n",
              "    </tr>\n",
              "  </tbody>\n",
              "</table>\n",
              "<p>999 rows × 1 columns</p>\n",
              "</div><br><label><b>dtype:</b> object</label>"
            ]
          },
          "metadata": {},
          "execution_count": 6
        }
      ]
    },
    {
      "cell_type": "markdown",
      "source": [
        "## 2.3 Verificação de duplicados\n",
        "\n",
        "- Dados duplicados são um tipo de ruído que podem prejudicar o aprendizado do modelo, pois aprendendo com valores exatamente iguais ele poderá generalizar de maneira incorreta."
      ],
      "metadata": {
        "id": "cbnWigHa3lZv"
      }
    },
    {
      "cell_type": "code",
      "source": [
        "#Somando e retornando o total de duplicadas presentes nas colunas\n",
        "print(df.duplicated().sum())\n",
        "\n",
        "#Removendo duplicadas do dataframe\n",
        "df = df.drop_duplicates()"
      ],
      "metadata": {
        "colab": {
          "base_uri": "https://localhost:8080/"
        },
        "id": "JqO6g5zN3od2",
        "outputId": "b70c2a37-f963-400f-ea2f-b9979e9caf03"
      },
      "execution_count": 7,
      "outputs": [
        {
          "output_type": "stream",
          "name": "stdout",
          "text": [
            "0\n"
          ]
        }
      ]
    },
    {
      "cell_type": "markdown",
      "source": [
        "- Nesse caso, foi possível observar que não existem dados duplicados nas colunas, ou seja, esse tipo de ruído não vai interferir a predição do modelo."
      ],
      "metadata": {
        "id": "TfiHqMe9Y9wX"
      }
    },
    {
      "cell_type": "markdown",
      "source": [
        "## 2.4 Verificando escrita inconsistente"
      ],
      "metadata": {
        "id": "ikxJaPJG4Rtv"
      }
    },
    {
      "cell_type": "markdown",
      "source": [
        "- É importante padronizar os valores das colunas, pois caso contrário podem ocorrer situações em que o modelo não reconhece corretamente certas informações."
      ],
      "metadata": {
        "id": "_HKgHYFc5loQ"
      }
    },
    {
      "cell_type": "code",
      "source": [
        "#exibe todos os valores únicos antes da padronização escrita\n",
        "print(df['Certificate'].unique())\n",
        "\n",
        "#transforma todos os valores em letra maiúscula e remove espaços em branco antes e depois do texto\n",
        "df['Certificate'] = df['Certificate'].str.upper().str.strip()\n",
        "\n",
        "#visualização para ver que a padronização foi aplicada corretamente\n",
        "print(\"Após padronização de escrita:\")\n",
        "print(df['Certificate'].unique())"
      ],
      "metadata": {
        "colab": {
          "base_uri": "https://localhost:8080/"
        },
        "id": "nOuZ2B3b4W9N",
        "outputId": "71578aa4-e3c8-48c1-cb90-a480a8cfa08a"
      },
      "execution_count": 8,
      "outputs": [
        {
          "output_type": "stream",
          "name": "stdout",
          "text": [
            "['A' 'UA' 'U' 'PG-13' 'R' 'Não informado' 'PG' 'G' 'Passed' 'TV-14' '16'\n",
            " 'TV-MA' 'Unrated' 'GP' 'Approved' 'TV-PG' 'U/A']\n",
            "Após padronização de escrita:\n",
            "['A' 'UA' 'U' 'PG-13' 'R' 'NÃO INFORMADO' 'PG' 'G' 'PASSED' 'TV-14' '16'\n",
            " 'TV-MA' 'UNRATED' 'GP' 'APPROVED' 'TV-PG' 'U/A']\n"
          ]
        }
      ]
    },
    {
      "cell_type": "markdown",
      "source": [
        "## 2.5 Procurando ruídos"
      ],
      "metadata": {
        "id": "lpz2WCFR5sBx"
      }
    },
    {
      "cell_type": "code",
      "source": [
        "#Exibe estatísticas descritivas das colunas numéricas do DataFrame\n",
        "#Inclui contagem, média, desvio padrão, mínimo, quartis e máximo\n",
        "print(df.describe())\n",
        "\n",
        "#Considera ruídos notas menores que 0 ou maiores que 10\n",
        "ruidos_notas = df[(df['IMDB_Rating'] < 0) | (df['IMDB_Rating'] > 10)]\n",
        "\n",
        "#Mostra a quantidade de registros com notas inválidas\n",
        "print(\"Ruídos em notas IMDB:\", ruidos_notas.shape[0])\n",
        "\n",
        "#Ruídos em Released_Year\n",
        "#Converte para numérico (valores inválidos viram NaN)\n",
        "df['Released_Year'] = pd.to_numeric(df['Released_Year'], errors='coerce')\n",
        "\n",
        "#Considera ruídos anos fora do intervalo plausível de filmes (antes de 1895 ou após 2025)\n",
        "ruidos_anos = df[(df['Released_Year'] < 1895) | (df['Released_Year'] > 2025)]\n",
        "\n",
        "#Mostra a quantidade de registros com anos inválidos\n",
        "print(\"Ruídos em anos:\", ruidos_anos.shape[0])\n",
        "\n",
        "#Ruídos em Runtime\n",
        "#Extrai números da coluna 'Runtime' e converte para float\n",
        "df['Runtime_min'] = df['Runtime'].str.extract(r'(\\d+)').astype(float)\n",
        "\n",
        "#Considera ruídos durações menores ou iguais a 0\n",
        "ruidos_duracao = df[df['Runtime_min'] <= 0]\n",
        "\n",
        "#Mostra a quantidade de registros com durações inválidas\n",
        "print(\"Ruídos em duração:\", ruidos_duracao.shape[0])"
      ],
      "metadata": {
        "colab": {
          "base_uri": "https://localhost:8080/"
        },
        "id": "V4IiTUCM5vSR",
        "outputId": "5b49d4ab-6f67-48b9-d033-97baac5ad422"
      },
      "execution_count": 9,
      "outputs": [
        {
          "output_type": "stream",
          "name": "stdout",
          "text": [
            "       Unnamed: 0  IMDB_Rating  Meta_score   No_of_Votes\n",
            "count  999.000000   999.000000  842.000000  9.990000e+02\n",
            "mean   500.000000     7.947948   77.969121  2.716214e+05\n",
            "std    288.530761     0.272290   12.383257  3.209126e+05\n",
            "min      1.000000     7.600000   28.000000  2.508800e+04\n",
            "25%    250.500000     7.700000   70.000000  5.547150e+04\n",
            "50%    500.000000     7.900000   79.000000  1.383560e+05\n",
            "75%    749.500000     8.100000   87.000000  3.731675e+05\n",
            "max    999.000000     9.200000  100.000000  2.303232e+06\n",
            "Ruídos em notas IMDB: 0\n",
            "Ruídos em anos: 0\n",
            "Ruídos em duração: 0\n"
          ]
        }
      ]
    },
    {
      "cell_type": "markdown",
      "source": [
        "## 2.6 Conversão numérica\n",
        "- Explicar porquê"
      ],
      "metadata": {
        "id": "dZHHt-D_8qmz"
      }
    },
    {
      "cell_type": "code",
      "source": [
        "#Converte a coluna 'Released_Year' para numérico (int ou float)\n",
        "#'errors=\"coerce\"' transforma valores inválidos em NaN\n",
        "df['Released_Year'] = pd.to_numeric(df['Released_Year'], errors='coerce')\n",
        "\n",
        "#Exibe as primeiras linhas para conferir a conversão\n",
        "print(\"Released_Year convertido para numérico:\")\n",
        "print(df['Released_Year'].head(), \"\\n\")\n",
        "\n",
        "#Cria uma nova coluna 'Runtime_min' extraindo apenas números da coluna 'Runtime'\n",
        "#Isso transforma strings como '120 min' em 120.0\n",
        "df['Runtime_min'] = df['Runtime'].str.extract(r'(\\d+)').astype(float)\n",
        "\n",
        "#Exibe as primeiras linhas para conferir a conversão\n",
        "print(\"Runtime em minutos:\")\n",
        "print(df[['Runtime','Runtime_min']].head(), \"\\n\")\n",
        "\n",
        "#Limpa a coluna 'Gross', removendo cifrão e vírgulas, e converte para float\n",
        "#Isso transforma strings como '$1,234,567' em 1234567.0\n",
        "df['Gross_clean'] = df['Gross'].str.replace(r'[$,]', '', regex=True).astype(float)\n",
        "\n",
        "#Exibe as primeiras linhas para conferir a conversão\n",
        "print(\"Gross convertido para float:\")\n",
        "print(df[['Gross','Gross_clean']].head())"
      ],
      "metadata": {
        "colab": {
          "base_uri": "https://localhost:8080/"
        },
        "id": "roNgJc768uJ5",
        "outputId": "e9213f61-e30f-482a-87b3-155d4dac837a"
      },
      "execution_count": 10,
      "outputs": [
        {
          "output_type": "stream",
          "name": "stdout",
          "text": [
            "Released_Year convertido para numérico:\n",
            "0    1972.0\n",
            "1    2008.0\n",
            "2    1974.0\n",
            "3    1957.0\n",
            "4    2003.0\n",
            "Name: Released_Year, dtype: float64 \n",
            "\n",
            "Runtime em minutos:\n",
            "   Runtime  Runtime_min\n",
            "0  175 min        175.0\n",
            "1  152 min        152.0\n",
            "2  202 min        202.0\n",
            "3   96 min         96.0\n",
            "4  201 min        201.0 \n",
            "\n",
            "Gross convertido para float:\n",
            "         Gross  Gross_clean\n",
            "0  134,966,411  134966411.0\n",
            "1  534,858,444  534858444.0\n",
            "2   57,300,000   57300000.0\n",
            "3    4,360,000    4360000.0\n",
            "4  377,845,905  377845905.0\n"
          ]
        }
      ]
    },
    {
      "cell_type": "markdown",
      "source": [
        "# 3. Análise de insights extraídos das informações\n",
        "\n",
        "- Após análise exploratória, esta seção está dedicada a um complemento do que pode ser visto na base de dados antes de iniciar a separação para treinamento e teste."
      ],
      "metadata": {
        "id": "0pNWrsN_Cg56"
      }
    },
    {
      "cell_type": "markdown",
      "source": [
        "## 3.1 O que os gráficos podem indicar?"
      ],
      "metadata": {
        "id": "f_PdCB0rCsIE"
      }
    },
    {
      "cell_type": "markdown",
      "source": [
        "### 3.1.1 Gráfico de Boxplot\n",
        "\n",
        "- Gráficos de boxplot são ótimos para identificar outliers. Em casos extremos de muitos outliers, pode ser necessário considerá-los ou apagá-los."
      ],
      "metadata": {
        "id": "SFgFYpK1D8y2"
      }
    },
    {
      "cell_type": "code",
      "source": [
        "#Importa as bibliotecas para visualização\n",
        "import matplotlib.pyplot as plt\n",
        "import seaborn as sns\n",
        "\n",
        "#Cria uma figura com 1 linha e 3 colunas de subplots, definindo o tamanho da figura\n",
        "fig, axes = plt.subplots(1, 3, figsize=(20,6))\n",
        "\n",
        "#Cria um boxplot da coluna 'IMDB_Rating' no primeiro subplot (axes[0])\n",
        "#Boxplot ajuda a visualizar a distribuição, mediana e possíveis outliers\n",
        "sns.boxplot(y=df['IMDB_Rating'], ax=axes[0], color='skyblue')\n",
        "axes[0].set_title('Boxplot de IMDB_Rating')\n",
        "\n",
        "#Cria um boxplot da coluna 'Runtime_min' no segundo subplot (axes[1])\n",
        "sns.boxplot(y=df['Runtime_min'], ax=axes[1], color='lightgreen')\n",
        "axes[1].set_title('Boxplot de Runtime_min')\n",
        "\n",
        "#Cria um boxplot da coluna 'Gross_clean' no terceiro subplot (axes[2])\n",
        "sns.boxplot(y=df['Gross_clean'], ax=axes[2], color='salmon')\n",
        "axes[2].set_title('Boxplot de Gross_clean')\n",
        "\n",
        "#Ajusta o layout para que os elementos não fiquem sobrepostos\n",
        "plt.tight_layout()\n",
        "#Exibe os gráficos\n",
        "plt.show()"
      ],
      "metadata": {
        "colab": {
          "base_uri": "https://localhost:8080/",
          "height": 375
        },
        "id": "Ht10g8jACmnB",
        "outputId": "23714056-e14d-407f-f071-713b9e50f455"
      },
      "execution_count": 11,
      "outputs": [
        {
          "output_type": "display_data",
          "data": {
            "text/plain": [
              "<Figure size 2000x600 with 3 Axes>"
            ],
            "image/png": "[encoded data removed]"
          },
          "metadata": {}
        }
      ]
    },
    {
      "cell_type": "markdown",
      "source": [
        "- Através da análise de boxplots é possível identificar números que estão fora da média. Esses são os outliers.\n",
        "- Contudo, para que o modelo também possa considerar filmes que estejam fora da média de notas e assim consiga prever notas maiores, os outliers serão mantidos."
      ],
      "metadata": {
        "id": "xlcFtQYSgNLz"
      }
    },
    {
      "cell_type": "markdown",
      "source": [
        "### 3.1.2 Gráficos de barras\n",
        "\n",
        "- Com gráficos de barras, é possível visualizar em posições os top 10 gêneros mais frequentes e o maior tipo de distribuição da classificação indicativa."
      ],
      "metadata": {
        "id": "uuFn071YEEaK"
      }
    },
    {
      "cell_type": "code",
      "source": [
        "#Cria uma figura com 1 linha e 2 colunas de subplots, definindo o tamanho da figura\n",
        "fig, axes = plt.subplots(1, 2, figsize=(20,6))\n",
        "\n",
        "#Conta a frequência de cada gênero e seleciona os 10 mais comuns\n",
        "top_genres = df['Genre'].value_counts().nlargest(10)\n",
        "\n",
        "#Cria um gráfico de barras horizontal mostrando os 10 gêneros mais frequentes\n",
        "#axes[0] indica que o gráfico será desenhado no primeiro subplot\n",
        "sns.barplot(x=top_genres.values, y=top_genres.index, ax=axes[0])\n",
        "\n",
        "#Define o título do primeiro gráfico\n",
        "axes[0].set_title('Top 10 gêneros mais frequentes')\n",
        "\n",
        "#Conta a frequência de cada certificado (faixa etária)\n",
        "cert_counts = df['Certificate'].value_counts()\n",
        "\n",
        "#Cria um gráfico de barras horizontal mostrando a distribuição de certificados\n",
        "#axes[1] indica que o gráfico será desenhado no segundo subplot\n",
        "sns.barplot(x=cert_counts.values, y=cert_counts.index, ax=axes[1])\n",
        "\n",
        "#Define o título do segundo gráfico\n",
        "axes[1].set_title('Distribuição de Certificate')\n",
        "\n",
        "#Ajusta o layout para que os elementos não fiquem sobrepostos\n",
        "plt.tight_layout()\n",
        "\n",
        "#Exibe os gráficos\n",
        "plt.show()"
      ],
      "metadata": {
        "colab": {
          "base_uri": "https://localhost:8080/",
          "height": 374
        },
        "id": "agHa1rD8EHlU",
        "outputId": "38a24ed3-76e1-4138-cbee-91705a49e8d0"
      },
      "execution_count": 12,
      "outputs": [
        {
          "output_type": "display_data",
          "data": {
            "text/plain": [
              "<Figure size 2000x600 with 2 Axes>"
            ],
            "image/png": "[encoded data removed]"
          },
          "metadata": {}
        }
      ]
    },
    {
      "cell_type": "markdown",
      "source": [
        "- É visto que o gênero de drama é o mais frequenta na base de dados e a classificação indicativa mais presente é a livre para todos os públicos (U)."
      ],
      "metadata": {
        "id": "GMesvT71g52z"
      }
    },
    {
      "cell_type": "markdown",
      "source": [
        "# 3.2 Filmes maiores em duração tem maiores notas?"
      ],
      "metadata": {
        "id": "2JcGtyCnFiMP"
      }
    },
    {
      "cell_type": "code",
      "source": [
        "#Define o tamanho da figura do gráfico\n",
        "plt.figure(figsize=(10,6))\n",
        "\n",
        "#Cria um gráfico de dispersão (scatterplot) relacionando a duração do filme (x) com a nota IMDb (y)\n",
        "sns.scatterplot(x='Runtime_min', y='IMDB_Rating', data=df)\n",
        "\n",
        "#Adiciona título ao gráfico\n",
        "plt.title(\"Duração do filme vs. Nota IMDb\")\n",
        "\n",
        "#Define o rótulo do eixo X\n",
        "plt.xlabel(\"Duração (minutos)\")\n",
        "\n",
        "#Define o rótulo do eixo Y\n",
        "plt.ylabel(\"IMDB Rating\")\n",
        "\n",
        "#Exibe o gráfico de dispersão\n",
        "plt.show()\n",
        "\n",
        "#Calcula a correlação numérica entre a duração do filme e a nota IMDb\n",
        "correlacao_numerica = df['Runtime_min'].corr(df['IMDB_Rating'])\n",
        "\n",
        "#Visualizando essa correlação\n",
        "print(\"Correlação entre duração e nota IMDb:\", correlacao_numerica)"
      ],
      "metadata": {
        "colab": {
          "base_uri": "https://localhost:8080/",
          "height": 581
        },
        "id": "FAaYMHKjFlO1",
        "outputId": "81dc30ef-3795-41ca-820c-fc03b018ed25"
      },
      "execution_count": 13,
      "outputs": [
        {
          "output_type": "display_data",
          "data": {
            "text/plain": [
              "<Figure size 1000x600 with 1 Axes>"
            ],
            "image/png": "[encoded data removed]"
          },
          "metadata": {}
        },
        {
          "output_type": "stream",
          "name": "stdout",
          "text": [
            "Correlação entre duração e nota IMDb: 0.24275124465497622\n"
          ]
        }
      ]
    },
    {
      "cell_type": "markdown",
      "source": [
        "# 3.3 Filmes de determinados gêneros recebem mais votos?\n",
        "- Existe algum gênero preferido do público? O gráfico será montado para analisar este tópico e obter mais insights."
      ],
      "metadata": {
        "id": "xMcMlVj6GyFH"
      }
    },
    {
      "cell_type": "code",
      "source": [
        "#Cria uma cópia do DataFrame original para evitar modificar diretamente o df\n",
        "df_genres = df.copy()\n",
        "\n",
        "#Divide a coluna 'Genre' em uma lista de gêneros, separando por vírgula\n",
        "df_genres['Genre'] = df_genres['Genre'].str.split(', ')\n",
        "\n",
        "#\"Explode\" a lista de gêneros em linhas separadas (um gênero por linha)\n",
        "df_genres = df_genres.explode('Genre')\n",
        "\n",
        "#Agrupa os dados pelo gênero e calcula a média do número de votos para cada um\n",
        "#Em seguida, ordena em ordem decrescente\n",
        "votos_por_genero = df_genres.groupby('Genre')['No_of_Votes'].mean().sort_values(ascending=False)\n",
        "\n",
        "#Exibe no console a média de votos por gênero\n",
        "print(votos_por_genero)\n",
        "\n",
        "#Define o tamanho da figura do gráfico\n",
        "plt.figure(figsize=(10,6))\n",
        "\n",
        "#Cria um gráfico de barras com os gêneros no eixo Y e a média de votos no eixo X\n",
        "sns.barplot(x=votos_por_genero.values, y=votos_por_genero.index)\n",
        "\n",
        "#Adiciona título e rótulos aos eixos\n",
        "plt.title(\"Votos médios por gênero\")\n",
        "plt.xlabel(\"Média de votos\")\n",
        "plt.ylabel(\"Gênero\")\n",
        "\n",
        "#Exibe o gráfico\n",
        "plt.show()"
      ],
      "metadata": {
        "colab": {
          "base_uri": "https://localhost:8080/",
          "height": 964
        },
        "id": "lP_OkZFWG206",
        "outputId": "402f0e45-aa3a-4be6-b54c-a4c06e5ac333"
      },
      "execution_count": 14,
      "outputs": [
        {
          "output_type": "stream",
          "name": "stdout",
          "text": [
            "Genre\n",
            "Sci-Fi       556242.477612\n",
            "Adventure    424952.954082\n",
            "Action       404172.412698\n",
            "Fantasy      347097.060606\n",
            "Thriller     300050.744526\n",
            "Mystery      293463.363636\n",
            "Crime        281322.124402\n",
            "Animation    268032.073171\n",
            "Sport        256618.684211\n",
            "Biography    251898.550459\n",
            "Drama        237821.820194\n",
            "Western      229475.800000\n",
            "Comedy       225465.965665\n",
            "Family       223472.107143\n",
            "Horror       217860.625000\n",
            "Romance      200913.144000\n",
            "History      195434.803571\n",
            "War          194244.509804\n",
            "Music        139281.685714\n",
            "Film-Noir     80185.210526\n",
            "Musical       79613.588235\n",
            "Name: No_of_Votes, dtype: float64\n"
          ]
        },
        {
          "output_type": "display_data",
          "data": {
            "text/plain": [
              "<Figure size 1000x600 with 1 Axes>"
            ],
            "image/png": "[encoded data removed]"
          },
          "metadata": {}
        }
      ]
    },
    {
      "cell_type": "markdown",
      "source": [
        "- Através da análise gráfica e da numeração, foi possível perceber que filmes de Ficção Científica foram mais votados nesse conjunto de dados."
      ],
      "metadata": {
        "id": "LHwNhVg6hF8J"
      }
    },
    {
      "cell_type": "markdown",
      "source": [
        "# 4. Resposta às perguntas de análise"
      ],
      "metadata": {
        "id": "kkjVP2QpLN_r"
      }
    },
    {
      "cell_type": "markdown",
      "source": [
        "- Esta seção e as seguintes serão utilizadas para responder às perguntas feitas na documentação do teste."
      ],
      "metadata": {
        "id": "aWkNTQfFiK-J"
      }
    },
    {
      "cell_type": "markdown",
      "source": [
        "## 4.1 Qual filme você recomendaria para uma pessoa que não conhece?"
      ],
      "metadata": {
        "id": "R5McYSATLRyw"
      }
    },
    {
      "cell_type": "markdown",
      "source": [
        "- Para recomendar um filme para alguém que não conhecemos, é importante considerar alguns fatores primeiro, como: gênero, duração, número de votos e a nota do filme no site.\n",
        "\n",
        "- Normalmente poderia ser recomendado um filme com boa nota, com um gênero já conhecido e com um grande número de votações.\n",
        "\n",
        "- Pensando nisso, foi feito um sorteio aleatório que obedece algumas condições, como verificação de nota no IMDb sendo maior ou igual a 8 e o número de votações maior ou igual a 50.000."
      ],
      "metadata": {
        "id": "VIVn24XGhZzs"
      }
    },
    {
      "cell_type": "code",
      "source": [
        "#Criação de variável para filtragem de filme\n",
        "#Considera o filme com nota maior ou igual a 8\n",
        "#Considera o numero de votos maior ou igual a 50000\n",
        "#Com base nisso, sorteia um filme com nota muito alta\n",
        "filme_recomendado = df[(df[\"IMDB_Rating\"] >= 8) & (df[\"No_of_Votes\"] >= 50000)]\n",
        "\n",
        "#Sorteando o filme, exibe seu título, nota e número de votos\n",
        "filme_recomendado.sort_values(by= \"IMDB_Rating\", ascending=False)[[\"Series_Title\", \"IMDB_Rating\", \"No_of_Votes\"]].head(1)"
      ],
      "metadata": {
        "colab": {
          "base_uri": "https://localhost:8080/",
          "height": 81
        },
        "id": "IujeHBRhLaNr",
        "outputId": "65bfa6c1-bbe2-4fb8-f6d4-e4d3dbb9cb17"
      },
      "execution_count": 73,
      "outputs": [
        {
          "output_type": "execute_result",
          "data": {
            "text/plain": [
              "    Series_Title  IMDB_Rating  No_of_Votes\n",
              "0  The Godfather          9.2      1620367"
            ],
            "text/html": [
              "\n",
              "  <div id=\"df-bd192cf2-06cc-449e-b48f-a60a70d0ae40\" class=\"colab-df-container\">\n",
              "    <div>\n",
              "<style scoped>\n",
              "    .dataframe tbody tr th:only-of-type {\n",
              "        vertical-align: middle;\n",
              "    }\n",
              "\n",
              "    .dataframe tbody tr th {\n",
              "        vertical-align: top;\n",
              "    }\n",
              "\n",
              "    .dataframe thead th {\n",
              "        text-align: right;\n",
              "    }\n",
              "</style>\n",
              "<table border=\"1\" class=\"dataframe\">\n",
              "  <thead>\n",
              "    <tr style=\"text-align: right;\">\n",
              "      <th></th>\n",
              "      <th>Series_Title</th>\n",
              "      <th>IMDB_Rating</th>\n",
              "      <th>No_of_Votes</th>\n",
              "    </tr>\n",
              "  </thead>\n",
              "  <tbody>\n",
              "    <tr>\n",
              "      <th>0</th>\n",
              "      <td>The Godfather</td>\n",
              "      <td>9.2</td>\n",
              "      <td>1620367</td>\n",
              "    </tr>\n",
              "  </tbody>\n",
              "</table>\n",
              "</div>\n",
              "    <div class=\"colab-df-buttons\">\n",
              "\n",
              "  <div class=\"colab-df-container\">\n",
              "    <button class=\"colab-df-convert\" onclick=\"convertToInteractive('df-bd192cf2-06cc-449e-b48f-a60a70d0ae40')\"\n",
              "            title=\"Convert this dataframe to an interactive table.\"\n",
              "            style=\"display:none;\">\n",
              "\n",
              "  <svg xmlns=\"http://www.w3.org/2000/svg\" height=\"24px\" viewBox=\"0 -960 960 960\">\n",
              "    <path d=\"M120-120v-720h720v720H120Zm60-500h600v-160H180v160Zm220 220h160v-160H400v160Zm0 220h160v-160H400v160ZM180-400h160v-160H180v160Zm440 0h160v-160H620v160ZM180-180h160v-160H180v160Zm440 0h160v-160H620v160Z\"/>\n",
              "  </svg>\n",
              "    </button>\n",
              "\n",
              "  <style>\n",
              "    .colab-df-container {\n",
              "      display:flex;\n",
              "      gap: 12px;\n",
              "    }\n",
              "\n",
              "    .colab-df-convert {\n",
              "      background-color: #E8F0FE;\n",
              "      border: none;\n",
              "      border-radius: 50%;\n",
              "      cursor: pointer;\n",
              "      display: none;\n",
              "      fill: #1967D2;\n",
              "      height: 32px;\n",
              "      padding: 0 0 0 0;\n",
              "      width: 32px;\n",
              "    }\n",
              "\n",
              "    .colab-df-convert:hover {\n",
              "      background-color: #E2EBFA;\n",
              "      box-shadow: 0px 1px 2px rgba(60, 64, 67, 0.3), 0px 1px 3px 1px rgba(60, 64, 67, 0.15);\n",
              "      fill: #174EA6;\n",
              "    }\n",
              "\n",
              "    .colab-df-buttons div {\n",
              "      margin-bottom: 4px;\n",
              "    }\n",
              "\n",
              "    [theme=dark] .colab-df-convert {\n",
              "      background-color: #3B4455;\n",
              "      fill: #D2E3FC;\n",
              "    }\n",
              "\n",
              "    [theme=dark] .colab-df-convert:hover {\n",
              "      background-color: #434B5C;\n",
              "      box-shadow: 0px 1px 3px 1px rgba(0, 0, 0, 0.15);\n",
              "      filter: drop-shadow(0px 1px 2px rgba(0, 0, 0, 0.3));\n",
              "      fill: #FFFFFF;\n",
              "    }\n",
              "  </style>\n",
              "\n",
              "    <script>\n",
              "      const buttonEl =\n",
              "        document.querySelector('#df-bd192cf2-06cc-449e-b48f-a60a70d0ae40 button.colab-df-convert');\n",
              "      buttonEl.style.display =\n",
              "        google.colab.kernel.accessAllowed ? 'block' : 'none';\n",
              "\n",
              "      async function convertToInteractive(key) {\n",
              "        const element = document.querySelector('#df-bd192cf2-06cc-449e-b48f-a60a70d0ae40');\n",
              "        const dataTable =\n",
              "          await google.colab.kernel.invokeFunction('convertToInteractive',\n",
              "                                                    [key], {});\n",
              "        if (!dataTable) return;\n",
              "\n",
              "        const docLinkHtml = 'Like what you see? Visit the ' +\n",
              "          '<a target=\"_blank\" href=https://colab.research.google.com/notebooks/data_table.ipynb>data table notebook</a>'\n",
              "          + ' to learn more about interactive tables.';\n",
              "        element.innerHTML = '';\n",
              "        dataTable['output_type'] = 'display_data';\n",
              "        await google.colab.output.renderOutput(dataTable, element);\n",
              "        const docLink = document.createElement('div');\n",
              "        docLink.innerHTML = docLinkHtml;\n",
              "        element.appendChild(docLink);\n",
              "      }\n",
              "    </script>\n",
              "  </div>\n",
              "\n",
              "\n",
              "    </div>\n",
              "  </div>\n"
            ],
            "application/vnd.google.colaboratory.intrinsic+json": {
              "type": "dataframe",
              "summary": "{\n  \"name\": \"filme_recomendado\",\n  \"rows\": 1,\n  \"fields\": [\n    {\n      \"column\": \"Series_Title\",\n      \"properties\": {\n        \"dtype\": \"string\",\n        \"num_unique_values\": 1,\n        \"samples\": [\n          \"The Godfather\"\n        ],\n        \"semantic_type\": \"\",\n        \"description\": \"\"\n      }\n    },\n    {\n      \"column\": \"IMDB_Rating\",\n      \"properties\": {\n        \"dtype\": \"number\",\n        \"std\": null,\n        \"min\": 9.2,\n        \"max\": 9.2,\n        \"num_unique_values\": 1,\n        \"samples\": [\n          9.2\n        ],\n        \"semantic_type\": \"\",\n        \"description\": \"\"\n      }\n    },\n    {\n      \"column\": \"No_of_Votes\",\n      \"properties\": {\n        \"dtype\": \"number\",\n        \"std\": null,\n        \"min\": 1620367,\n        \"max\": 1620367,\n        \"num_unique_values\": 1,\n        \"samples\": [\n          1620367\n        ],\n        \"semantic_type\": \"\",\n        \"description\": \"\"\n      }\n    }\n  ]\n}"
            }
          },
          "metadata": {},
          "execution_count": 73
        }
      ]
    },
    {
      "cell_type": "markdown",
      "source": [
        "## 4.2 Quais são os principais fatores que estão relacionados com alta expectativa de faturamento de um filme?\n",
        "\n",
        "- É possível inferir que gêneros de maior relevância, como ação, aventura e ficção científica, estão entre os mais populares e tendem a despertar maior interesse do público.\n",
        "\n",
        "- O número de votos pode ser um fator relevante, pois quanto mais pessoas assistem a um determinado filme, maior é a sua visibilidade e, consequentemente, mais atenção ele tende a atrair de novos espectadores.\n",
        "\n",
        "- Outro fator relevante é a duração do filme. Produções mais longas, em alguns casos, podem não conseguir manter a atenção do público ao longo do tempo, o que leva parte dos espectadores a perder o interesse. Dessa forma, esse tipo de filme tende a atrair apenas um grupo mais restrito de pessoas."
      ],
      "metadata": {
        "id": "9ysq1WCiTyE5"
      }
    },
    {
      "cell_type": "markdown",
      "source": [
        "## 4.3 O que é possível inferir da coluna *Overview?* É possível inferir o gênero do filme a partir dessa coluna?\n",
        "\n",
        "- A coluna *Overview* corresponde a uma breve sinopse do filme, cujo objetivo é apresentar de forma resumida a trama principal e situar o espectador.\n",
        "\n",
        "- A partir desse texto, é possível, em muitos casos, inferir o gênero do filme, já que a forma de descrever a história costuma variar conforme a proposta. Por exemplo, sinopses de filmes de suspense tendem a ser mais enigmáticas e revelam pouco da trama; filmes de ação geralmente destacam os conflitos e acontecimentos intensos; enquanto sinopses de comédia adotam uma abordagem mais leve e divertida, transmitindo o tom cômico da produção."
      ],
      "metadata": {
        "id": "54hwqFWcUR8b"
      }
    },
    {
      "cell_type": "markdown",
      "source": [
        "# 5. Como realizar a previsão das notas do IMDb?\n",
        "\n",
        "- No momento de prever a nota de um filme, é preciso pensar no que considerar para que o modelo possa ser o mais assertivo possível."
      ],
      "metadata": {
        "id": "xWsMUrFpc8zu"
      }
    },
    {
      "cell_type": "markdown",
      "source": [
        "## 5.1 Regressão ou Classificação?\n",
        "\n",
        "- O tipo de problema de predição aqui é o de REGRESSÃO, pelo fato de se tratarem de valores numéricos (0 a 10) contínuos."
      ],
      "metadata": {
        "id": "3KTcFSFeq_UP"
      }
    },
    {
      "cell_type": "markdown",
      "source": [
        "## 5.2 Fatores que influenciam na decisão de uma nota\n",
        "\n",
        "- Para as variáveis a serem utilizadas, é importante considerar alguns fatores que podem influenciar no momento de decisão de uma nota. Dessa forma, as possíveis variáveis mais importantes seriam:\n",
        "  * Released_Year: o ano de lançamento pode influenciar a nota, pois filmes mais antigos podem ser avaliados de forma diferente em relação aos atuais (nostalgia, padrão de produção da época, etc.).\n",
        "\n",
        "  * Runtime_min: a duração do filme pode afetar a experiência do público, impactando a percepção da qualidade.\n",
        "\n",
        "  * Meta_score: fornece uma avaliação crítica profissional que tende a se correlacionar com a opinião do público.\n",
        "\n",
        "  * No_of_Votes: o número de votos representa a popularidade do filme e ajuda a reduzir distorções em notas com poucas avaliações.\n",
        "\n",
        "  * Gross_clean: a arrecadação pode ser um indicativo de aceitação do público, podendo influenciar indiretamente na nota.\n",
        "\n",
        "  * Certificate: a classificação indicativa pode afetar o alcance do público e o tipo de crítica recebida.\n",
        "\n",
        "  * Genre: o gênero do filme influencia as expectativas do público, já que certos gêneros são avaliados de forma mais rigorosa ou mais branda.\n",
        "\n"
      ],
      "metadata": {
        "id": "aRm72Z4qrNv4"
      }
    },
    {
      "cell_type": "markdown",
      "source": [
        "## 5.3 Qual modelo melhor se aproxima dos dados? Quais seus prós e contras?\n",
        "\n",
        "- Um bom exemplo de modelo que poderia satisfazer a resolução do problema seria o Random Forest Regression\n",
        "\n",
        "    - Pró: funciona muito bem com dados categóricos e são menos propensas a overfitting.\n",
        "\n",
        "    - Contra: pode demandar mais processamento e ser mais difícil de interpretar."
      ],
      "metadata": {
        "id": "hutUsSbqrnfc"
      }
    },
    {
      "cell_type": "markdown",
      "source": [
        "## 5.4 Qual melhor medida a ser usada para o modelo e por quê?\n",
        "\n",
        "- A métrica escolhida foi o RMSE (Root Mean Squared Error), pois com essa métrica é possível impedir alterações muito grosseiras e que atrapalham o resultado final. Por exemplo: um filme que pode perder ou ganhar até 2 pontos na avaliação é um erro grosseiro considerando uma crítica que utiliza de 0 a 10. Dessa forma, essa métrica pode ajudar na análise de forma que esses desvios não aconteçam."
      ],
      "metadata": {
        "id": "H0SfUFAVzvLf"
      }
    },
    {
      "cell_type": "markdown",
      "source": [
        "# 6.Teste e predição do modelo Random Forest"
      ],
      "metadata": {
        "id": "n8sv3WTo6cOL"
      }
    },
    {
      "cell_type": "markdown",
      "source": [
        "## 6.1 Separação de Features(variáveis) e selecionando o Target(alvo)"
      ],
      "metadata": {
        "id": "OLx5nm4V6uGB"
      }
    },
    {
      "cell_type": "code",
      "source": [
        "#features numéricas + categóricas\n",
        "X = df[['Released_Year', 'Runtime_min', 'Meta_score', 'No_of_Votes',\n",
        "        'Gross_clean', 'Certificate', 'Genre']]\n",
        "\n",
        "#Alvo\n",
        "y = df['IMDB_Rating']\n",
        "\n",
        "#transformar categorias em variáveis dummy(conversão para valores numéricos)\n",
        "X = pd.get_dummies(X, columns=['Certificate', 'Genre'], drop_first=True)\n",
        "\n",
        "#remover linhas com NaN(pois não vão ajudar na predição)\n",
        "X = X.dropna()\n",
        "y = y.loc[X.index]"
      ],
      "metadata": {
        "id": "5SHDsH-96fs0"
      },
      "execution_count": 18,
      "outputs": []
    },
    {
      "cell_type": "markdown",
      "source": [
        "## 6.2 Treino e Teste"
      ],
      "metadata": {
        "id": "MeGJz2xT7j9c"
      }
    },
    {
      "cell_type": "code",
      "source": [
        "#importando bibliotecas para chamar o modelo, o treino, o teste e a métrica\n",
        "from sklearn.model_selection import train_test_split\n",
        "from sklearn.ensemble import RandomForestRegressor\n",
        "from sklearn.metrics import mean_squared_error\n",
        "import numpy as np\n",
        "\n",
        "\n",
        "#dividindo os dados de treino/teste\n",
        "X_train, X_test, y_train, y_test = train_test_split(\n",
        "    X, y, test_size=0.2, random_state=42\n",
        ")\n",
        "\n",
        "#modelo Random Forest com ajustes nos hiperparâmetros\n",
        "rf = RandomForestRegressor(\n",
        "    n_estimators=500,\n",
        "    random_state=42,\n",
        "    max_depth=30,\n",
        "    min_samples_split=5,\n",
        "    min_samples_leaf=2,\n",
        ")\n",
        "\n",
        "#Treina o modelo Random Forest com os dados de treino\n",
        "#X_train: variáveis preditoras (features) do conjunto de treino\n",
        "#y_train: variável alvo (target) do conjunto de treino\n",
        "rf.fit(X_train, y_train)\n",
        "\n",
        "#Faz a predição das notas para o conjunto de teste usando o modelo treinado\n",
        "#y_pred vai conter os valores previstos pelo modelo\n",
        "y_pred = rf.predict(X_test)\n",
        "\n",
        "#métricas\n",
        "rmse = np.sqrt(mean_squared_error(y_test, y_pred))\n",
        "\n",
        "#vai mostrar o quanto o modelo vai errar na predição da pontuação\n",
        "print(\"RMSE:\", rmse)"
      ],
      "metadata": {
        "colab": {
          "base_uri": "https://localhost:8080/"
        },
        "id": "7zRisDYw7seg",
        "outputId": "86ffc532-bc08-4c9a-c003-fdf682dc42b7"
      },
      "execution_count": 71,
      "outputs": [
        {
          "output_type": "stream",
          "name": "stdout",
          "text": [
            "RMSE: 0.18862305039503532\n"
          ]
        }
      ]
    },
    {
      "cell_type": "markdown",
      "source": [
        "- Com a métrica utilizada (RMSE), identificou-se que o modelo apresenta um erro médio de aproximadamente 0,19 em relação às notas reais.\n",
        "\n",
        "- Esse resultado indica que as previsões do modelo tendem a ser bastante próximas dos valores observados, com baixa variação em relação ao valor real."
      ],
      "metadata": {
        "id": "cwhJdGIvqB5v"
      }
    },
    {
      "cell_type": "markdown",
      "source": [
        "## 6.3 Predição - exemplo \"The Shawshank Redemption\""
      ],
      "metadata": {
        "id": "93sgg21nA5SP"
      }
    },
    {
      "cell_type": "code",
      "source": [
        "#Exemplo de filme novo sendo catalogado\n",
        "novo_filme = {\n",
        "  'Series_Title': 'The Shawshank Redemption',\n",
        "  'Released_Year': 1994,\n",
        "  'Certificate': 'A',\n",
        "  'Runtime_min': 142,\n",
        "  'Genre': 'Drama',\n",
        "  'Overview': 'Two imprisoned men bond over a number of years, finding solace and eventual redemption through acts of common decency.',\n",
        "  'Meta_score': 80.0,\n",
        "  'Director': 'Frank Darabont',\n",
        "  'Star1': 'Tim Robbins',\n",
        "  'Star2': 'Morgan Freeman',\n",
        "  'Star3': 'Bob Gunton',\n",
        "  'Star4': 'William Sadler',\n",
        "  'No_of_Votes': 2343110,\n",
        "  'Gross': 28341469\n",
        "}\n",
        "\n",
        "#Transformar em DataFrame para receber o filme\n",
        "novo_df = pd.DataFrame([novo_filme])\n",
        "\n",
        "#Aplicar os mesmos dummies que no treino\n",
        "novo_df = pd.get_dummies(novo_df, columns=['Certificate', 'Genre'], drop_first=True)\n",
        "\n",
        "#Garantir que tenha as mesmas colunas que X (preenchendo ausentes com 0)\n",
        "novo_df = novo_df.reindex(columns=X.columns, fill_value=0)\n",
        "\n",
        "#Agora sim, prever\n",
        "nota_prevista = rf.predict(novo_df)[0]\n",
        "print(\"Nota prevista IMDb:\", round(nota_prevista, 2))"
      ],
      "metadata": {
        "colab": {
          "base_uri": "https://localhost:8080/"
        },
        "id": "3vywEUAbLHW7",
        "outputId": "86772e36-a6d7-4f4e-d2e6-af12a994adaa"
      },
      "execution_count": 74,
      "outputs": [
        {
          "output_type": "stream",
          "name": "stdout",
          "text": [
            "Nota prevista IMDb: 8.81\n"
          ]
        }
      ]
    },
    {
      "cell_type": "markdown",
      "source": [
        "- Com base na predição, o resultado obtido foi de 8.81.\n",
        "\n",
        "- No site oficial IMDb, a nota para este filme é 9.3.\n",
        "\n",
        "- Portanto, observa-se que o modelo apresentou um pequeno desvio na avaliação, mesmo após o uso das métricas adequadas e do treinamento com as variáveis selecionadas. Embora tenha conseguido se aproximar da nota oficial, o modelo ainda não foi capaz de reconhecer plenamente filmes com avaliações muito elevadas."
      ],
      "metadata": {
        "id": "wSx9je2mqrVT"
      }
    },
    {
      "cell_type": "markdown",
      "source": [
        "# Final - salvamento em modelo .pkl e requirements"
      ],
      "metadata": {
        "id": "C-BWwD8Z81AO"
      }
    },
    {
      "cell_type": "code",
      "source": [
        "from joblib import dump\n",
        "from google.colab import files\n",
        "\n",
        "# Salva o modelo treinado\n",
        "dump(rf, 'modelo_filmes.pkl')\n",
        "\n",
        "files.download('modelo_filmes.pkl')"
      ],
      "metadata": {
        "colab": {
          "base_uri": "https://localhost:8080/",
          "height": 17
        },
        "id": "o3q2QCNj84EO",
        "outputId": "6bf552bb-c897-4840-bedc-35bc68312f5a"
      },
      "execution_count": 75,
      "outputs": [
        {
          "output_type": "display_data",
          "data": {
            "text/plain": [
              "<IPython.core.display.Javascript object>"
            ],
            "application/javascript": [
              "\n",
              "    async function download(id, filename, size) {\n",
              "      if (!google.colab.kernel.accessAllowed) {\n",
              "        return;\n",
              "      }\n",
              "      const div = document.createElement('div');\n",
              "      const label = document.createElement('label');\n",
              "      label.textContent = `Downloading \"${filename}\": `;\n",
              "      div.appendChild(label);\n",
              "      const progress = document.createElement('progress');\n",
              "      progress.max = size;\n",
              "      div.appendChild(progress);\n",
              "      document.body.appendChild(div);\n",
              "\n",
              "      const buffers = [];\n",
              "      let downloaded = 0;\n",
              "\n",
              "      const channel = await google.colab.kernel.comms.open(id);\n",
              "      // Send a message to notify the kernel that we're ready.\n",
              "      channel.send({})\n",
              "\n",
              "      for await (const message of channel.messages) {\n",
              "        // Send a message to notify the kernel that we're ready.\n",
              "        channel.send({})\n",
              "        if (message.buffers) {\n",
              "          for (const buffer of message.buffers) {\n",
              "            buffers.push(buffer);\n",
              "            downloaded += buffer.byteLength;\n",
              "            progress.value = downloaded;\n",
              "          }\n",
              "        }\n",
              "      }\n",
              "      const blob = new Blob(buffers, {type: 'application/binary'});\n",
              "      const a = document.createElement('a');\n",
              "      a.href = window.URL.createObjectURL(blob);\n",
              "      a.download = filename;\n",
              "      div.appendChild(a);\n",
              "      a.click();\n",
              "      div.remove();\n",
              "    }\n",
              "  "
            ]
          },
          "metadata": {}
        },
        {
          "output_type": "display_data",
          "data": {
            "text/plain": [
              "<IPython.core.display.Javascript object>"
            ],
            "application/javascript": [
              "download(\"download_0d547e1a-c36c-4d73-a3d8-5b7729c23ba0\", \"modelo_filmes.pkl\", 9736289)"
            ]
          },
          "metadata": {}
        }
      ]
    },
    {
      "cell_type": "code",
      "source": [
        "!pip freeze > requirements.txt"
      ],
      "metadata": {
        "id": "xwCOCmKM9Nfj"
      },
      "execution_count": 76,
      "outputs": []
    },
    {
      "cell_type": "code",
      "source": [
        "from google.colab import files\n",
        "files.download('requirements.txt')"
      ],
      "metadata": {
        "colab": {
          "base_uri": "https://localhost:8080/",
          "height": 17
        },
        "id": "EEkLLchC9RSv",
        "outputId": "0b0724c3-5b42-4f11-afa7-11caa4f3b8e5"
      },
      "execution_count": 77,
      "outputs": [
        {
          "output_type": "display_data",
          "data": {
            "text/plain": [
              "<IPython.core.display.Javascript object>"
            ],
            "application/javascript": [
              "\n",
              "    async function download(id, filename, size) {\n",
              "      if (!google.colab.kernel.accessAllowed) {\n",
              "        return;\n",
              "      }\n",
              "      const div = document.createElement('div');\n",
              "      const label = document.createElement('label');\n",
              "      label.textContent = `Downloading \"${filename}\": `;\n",
              "      div.appendChild(label);\n",
              "      const progress = document.createElement('progress');\n",
              "      progress.max = size;\n",
              "      div.appendChild(progress);\n",
              "      document.body.appendChild(div);\n",
              "\n",
              "      const buffers = [];\n",
              "      let downloaded = 0;\n",
              "\n",
              "      const channel = await google.colab.kernel.comms.open(id);\n",
              "      // Send a message to notify the kernel that we're ready.\n",
              "      channel.send({})\n",
              "\n",
              "      for await (const message of channel.messages) {\n",
              "        // Send a message to notify the kernel that we're ready.\n",
              "        channel.send({})\n",
              "        if (message.buffers) {\n",
              "          for (const buffer of message.buffers) {\n",
              "            buffers.push(buffer);\n",
              "            downloaded += buffer.byteLength;\n",
              "            progress.value = downloaded;\n",
              "          }\n",
              "        }\n",
              "      }\n",
              "      const blob = new Blob(buffers, {type: 'application/binary'});\n",
              "      const a = document.createElement('a');\n",
              "      a.href = window.URL.createObjectURL(blob);\n",
              "      a.download = filename;\n",
              "      div.appendChild(a);\n",
              "      a.click();\n",
              "      div.remove();\n",
              "    }\n",
              "  "
            ]
          },
          "metadata": {}
        },
        {
          "output_type": "display_data",
          "data": {
            "text/plain": [
              "<IPython.core.display.Javascript object>"
            ],
            "application/javascript": [
              "download(\"download_ca8761e0-a533-4f7f-9cc1-800640c3d5ea\", \"requirements.txt\", 13717)"
            ]
          },
          "metadata": {}
        }
      ]
    }
  ]
}